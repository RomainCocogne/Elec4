{
 "cells": [
  {
   "cell_type": "markdown",
   "metadata": {},
   "source": [
    "### PNS ELEC4 EIEL821 Spectral Analysis \n",
    "\n",
    "\n",
    "# Analyse spectrale - partiel Python 1\n",
    "\n",
    "\n",
    "\n",
    "**CONSIGNES** : \n",
    "\n",
    "* Tout document papier ou électronique autorisé.\n",
    "\n",
    "\n",
    "* **TOUTE COMMUNICATION ENTRE LES ÉTUDIANTS OU AVEC UNE TIERCE PERSONNE PENDANT L'ÉPREUVE EST FORMELLEMENT INTERDITE**.\n",
    "\n",
    "\n",
    "* Les réponses aux questions posées dans le sujet doivent être clairement visibles sur les solutions du cahier. Pour cela utiliser une commande du style :\n",
    "\n",
    "        print(\">>> RÉPONSE : Ma réponse est...\")\n",
    "\n",
    "\n",
    "**BARÈME** :\n",
    "\n",
    "* 4 exercices x **[5p]** par exercice + **[5p]** question bonus = **[25p]**.\n",
    "\n",
    "\n",
    "## 1. Processus stochastiques\n",
    "\n",
    "On souhaite étudier le processus stochastique :\n",
    "\n",
    "$$X(n) = A + \\nu(n)$$\n",
    "\n",
    "où $A$ est une constante réelle et $\\nu(n)$ un bruit blanc à moyenne nulle et variance unité.\n",
    "\n",
    "\n",
    "* **[0.5p]** Pour $A = 1$, générer 1000 realizations de ce processus, où chaque réalisation est composée de 128 échantillons. Tracer une réalisation du processus.\n",
    "\n",
    "\n",
    "* **[2x0.5p]** Estimer et tracer la moyenne $\\mu_X(n)$ et la variance $\\sigma^2_X(n)$ du processus dans l'intervalle $n\\in[0, 127]$ échantillons.\n",
    "\n",
    "\n",
    "* **[3x0.5p]** Estimer et tracer la fonction d'autocorrélation $R_X(n_1, n_2)$ pour $n_1 = 0$, $n_1 = 10$ et $n_1 = 20$, sur l'intervalle $n_2 \\in [0, 50]$ (trois courbes).\n",
    "\n",
    "\n",
    "* **[2x1p]** **QUESTION :** Au vu de ces résultats, peut-on conclure que le processus $X(n)$ est stationnaire au sens large malgré le fait que $A$ est une constante déterministe ? Si c'est le cas, calculer et tracer sa fonction d'autocorrélation $R_X(k) = R_X(0, k)$ dans l'intervalle $k\\in [-50, 50]$.\n",
    "\n"
   ]
  },
  {
   "cell_type": "code",
   "execution_count": null,
   "metadata": {
    "scrolled": false
   },
   "outputs": [],
   "source": []
  },
  {
   "cell_type": "markdown",
   "metadata": {},
   "source": [
    "## 2. Analyse spectrale non paramétrique par périodogramme\n",
    "\n",
    "Sous l'hypothèse de stationarité, on souhaite analyser le processus $X(n)$ par la méthode du périodogramme.\n",
    "\n",
    "\n",
    "* **[1p]** Calculer le périodogramme des 50 premières réalisation du processus, en utilisant $N_\\mathrm{FFT} = 1024$ points dans la FFT. Dans une même figure, tracer (en dB) les 50 réalisations du périodogramme sur l'intervalle $\\omega \\in [-\\pi, \\pi]$ rad/éch.\n",
    "\n",
    "\n",
    "* **[1p]** Calculer la moyenne et la variance du périodogramme, et les tracer (en dB) dans une autre figure. Comparer les résultats avec ceux attendus théoriquement.\n",
    "\n",
    "\n",
    "* **[2x1p]** Répéter l'exercice avec 512 échantillons. \n",
    "\n",
    "\n",
    "* **[2x0.5p]** **QUESTION :** Quels sont les effets de l'augmentation de la taille des données sur la résolution et la variance du périodogramme ?\n",
    "\n",
    "\n",
    "*Aide :* Pour représenter le spectre dans l'intervalle $[-\\pi, \\pi]$, l'axe des fréquences et la PSD doivent d'abord être rearrangés comme il suit :\n",
    "\n",
    "    w = np.arange(-Nfft/2, Nfft/2)*2/Nfft    # axe w (rad/éch) par rapport à pi\n",
    "    Sx = np.concatenate((Sx[:, int(Nfft/2):], Sx[:, :int(Nfft/2)]), 1)\n",
    " "
   ]
  },
  {
   "cell_type": "code",
   "execution_count": null,
   "metadata": {
    "scrolled": false
   },
   "outputs": [],
   "source": []
  },
  {
   "cell_type": "markdown",
   "metadata": {},
   "source": [
    "## 3. Analyse spectrale non paramétrique améliorée\n",
    "\n",
    "\n",
    "On choisit ensuite d'analyser le processus $X(n)$ avec la méthode de Welch. \n",
    "\n",
    "* **[3x1p]** Sur les 50 réalisations de 512 échantillons de l'exercice précédent, appliquer la méthode de Welch avec une fenêtre rectangulaire de $L$ échantillons dans les cas suivants : \n",
    "\n",
    "    * $L = 128$ et chevauchement de 0% ;\n",
    "    \n",
    "    * $L = 64$ et chevauchement de 0% ;\n",
    "    \n",
    "    * $L = 64$ et chevauchement de 50% ;\n",
    "    \n",
    "    \n",
    "* **[2x1p]** **QUESTION :** Quels sont les effets des différents paramètres ($L$ et niveau de chevauchement) sur la résolution et la variance de l'estimation spectrale obtenue par la méthode de Welch ?\n",
    "\n"
   ]
  },
  {
   "cell_type": "code",
   "execution_count": null,
   "metadata": {
    "scrolled": false
   },
   "outputs": [],
   "source": []
  },
  {
   "cell_type": "markdown",
   "metadata": {},
   "source": [
    "## 4. Analyse spectrale paramétrique\n",
    "\n",
    "Suivant les indications des exercices précédents (calcul et tracé des réalisations, de la moyenne et de la variance), déterminer les estimateurs spectraux AR d'ordre 1, 2 et 3 à partir de 50 réalisations de 64 échantillons du processus $X(n)$. Utiliser l'estimateur biaisé de l'autocorrélation.\n",
    "\n",
    "\n",
    "AR(1) et AR(2) : **[2x1.5p]** ; AR(3) : **[2p]**.\n"
   ]
  },
  {
   "cell_type": "code",
   "execution_count": null,
   "metadata": {
    "scrolled": false
   },
   "outputs": [],
   "source": []
  },
  {
   "cell_type": "markdown",
   "metadata": {},
   "source": [
    "## Bonus\n",
    "\n",
    "Afin de supprimer la composante continue, on fait passer le processus $X(n)$ à travers le filtre à réponse impulsionnelle finie\n",
    "\n",
    "$$h(n) = \\left\\{\\begin{array}{cll} (-1)^n && n \\in\\{0, 1\\}\\\\ 0 && n \\notin\\{0, 1\\}. \\end{array}\\right.$$\n",
    "\n",
    "* **[2p]** Calculer le signal $Y(n)$ à la sortie du filtre lorsqu'il est excité par le signal $X(n)$.\n",
    "\n",
    "\n",
    "* **[2p]** Calculer et représenter la PSD du processus $Y(n)$ à l'aide de la technique d'analyse spectrale de votre choix.\n",
    "\n",
    "\n",
    "* **[1p]** **QUESTION:** Ce filtre joue-t-il le rôle attendu ? \n",
    "\n",
    "\n",
    "*Aide :* Pour calculer le produit de convolution, on peut utiliser la fonction `np.convolve`, mais d'autres options sont possibles.\n",
    "    "
   ]
  },
  {
   "cell_type": "code",
   "execution_count": null,
   "metadata": {
    "scrolled": false
   },
   "outputs": [],
   "source": []
  }
 ],
 "metadata": {
  "kernelspec": {
   "display_name": "Python 3",
   "language": "python",
   "name": "python3"
  },
  "language_info": {
   "codemirror_mode": {
    "name": "ipython",
    "version": 3
   },
   "file_extension": ".py",
   "mimetype": "text/x-python",
   "name": "python",
   "nbconvert_exporter": "python",
   "pygments_lexer": "ipython3",
   "version": "3.7.1"
  }
 },
 "nbformat": 4,
 "nbformat_minor": 2
}
