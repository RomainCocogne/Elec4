{
 "cells": [
  {
   "cell_type": "markdown",
   "metadata": {},
   "source": [
    "# Exercice session on Fixed Point Filtering.\n",
    "\n",
    "For IIR filters with only two complex conjugate poles (and no zeros - or double zeros at z=0), perform the fixed-point filters for the following cases :\n",
    "\n",
    "<ol>\n",
    "<li><ul> For both structures\n",
    "<li> The direct form I\n",
    "<li> The coupled form : \n",
    "![Coupled form second order section](coupled_form.png)\n",
    "</ul>\n",
    "<li> For the following poles :\n",
    "<ul>\n",
    "<li> $z_\\infty(z_\\infty^*) = 0.9 e^{\\pm j \\pi/4}$\n",
    "<li> $z_\\infty(z_\\infty^*) = 0.99 e^{\\pm j \\pi/4}$\n",
    "<li> $z_\\infty(z_\\infty^*) = 0.9 e^{\\pm j \\pi}$\n",
    "<li> $z_\\infty(z_\\infty^*) = 0.99 e^{\\pm j \\pi}$\n",
    "</ul>\n",
    "<li> For all these cases determine the influence of coefficient quantization and of round-off noise.  Conclude on the right number of bits to be allocated.\n",
    "</ol>"
   ]
  },
  {
   "cell_type": "markdown",
   "metadata": {},
   "source": [
    "## Influence of round-off noise in a filter.\n",
    "\n",
    "In the previous notebook, we derived that the effect of round off noise after a multiplier was an error with power spectral density equal to :\n",
    "$$ \\Phi_{ee}(\\mathrm{e}^{\\,\\mathrm{j}\\,\\Omega}) = \\sigma_e^2 = \\frac{Q^2}{12} $$\n",
    "\n",
    "![Model for round-off noise in a multiplier](roundoff_model.png)\n",
    "\n",
    "Now, let's consider a given coefficient of a filter, and isolate it, as in the following figure : \n",
    "\n",
    "<img src=\"quant_product_filter.png\" alt=\"Drawing\" style=\"width: 500px;\"/>\n",
    "\n",
    "The contribution of the round-off noise of multiplier $m_i$ is then \n",
    "$$\\Phi_{ee,m_i}(\\mathrm{e}^{\\,\\mathrm{j}\\,\\omega}) = \\sigma_e^2 G_i(\\mathrm{e}^{\\,\\mathrm{j}\\,\\omega}) G_i(\\mathrm{e}^{\\,\\mathrm{- j}\\,\\omega})$$\n",
    "\n",
    "And, thanks to the superposition principle, we can write the round-off noise of all multipliers $m_i$, assuming $K$ multipliers as :\n",
    "\n",
    "$$\\Phi_{ee,filter}(\\mathrm{e}^{\\,\\mathrm{j}\\,\\omega}) = \\sigma_e^2 \\sum_{i=1}^K G_i(\\mathrm{e}^{\\,\\mathrm{j}\\,\\omega}) G_i(\\mathrm{e}^{\\,\\mathrm{- j}\\,\\omega})$$\n",
    "\n",
    "Hence, the relative DSP is :\n",
    "\n",
    "$$\\frac{\\Phi_{ee,filter}(\\mathrm{e}^{\\,\\mathrm{j}\\,\\omega})}{\\Phi_{ee}(\\mathrm{e}^{\\,\\mathrm{j}\\,\\omega})} = \\sum_{i=1}^K \\left|G_i(\\mathrm{e}^{\\,\\mathrm{j}\\,\\omega})\\right|^2 $$\n",
    "\n",
    "This relative DSP is not dependent on $Q$, and thus represent the sensitivity of the filter to (any) quantization.\n",
    "\n",
    "The relative power itself is the integral of the relative DSP :\n",
    "\n",
    "$$\\frac{\\sigma_{e,filter}^2}{\\sigma_e^2} = \\frac{1}{\\pi} \\int_0^\\pi \\sum_{i=1}^K \\left|G_i(\\mathrm{e}^{\\,\\mathrm{j}\\,\\omega})\\right|^2 d\\omega $$\n",
    "\n",
    "## Exercise \n",
    "\n",
    "Given the coupled form of a Second Order Section of an IIR filter as :\n",
    "\n",
    "![Coupled form second order section](coupled_form.png)\n",
    "\n",
    "remembering that \n",
    " $\\Re\\{z_\\infty\\} = r \\cdot \\cos \\varphi$ and $\\Im\\{z_\\infty\\} = r \\cdot \\sin \\varphi$ denote the real- and imaginary part of the complex pole $z_\\infty$, respectively. Analysis of the structure reveals its difference equation as\n",
    "\n",
    "\\begin{align}\n",
    "w[k] &= x[k] + \\Re\\{z_\\infty\\} \\, w[k-1] - \\Im\\{z_\\infty\\} \\, y[k-1] \\\\\n",
    "y[k] &= \\Im\\{z_\\infty\\} \\, w[k-1] + \\Re\\{z_\\infty\\} \\, y[k-1]\n",
    "\\end{align}\n",
    "\n",
    "and its transfer function as\n",
    "\n",
    "\\begin{equation}\n",
    "H(z) = \\frac{\\Im\\{z_\\infty\\} \\; z^{-1}}{ 1 - 2 \\Re\\{z_\\infty\\} \\; z^{-1} + (\\Re\\{z_\\infty\\}^2 + \\Im\\{z_\\infty\\}^2) \\; z^{-2} }\n",
    "\\end{equation}\n",
    "\n",
    "Compute the relative DSP.\n",
    "\n",
    "Use the fixed_point_filtering.ipynb notebook to simulate and check this result.\n",
    "\n"
   ]
  },
  {
   "cell_type": "markdown",
   "metadata": {},
   "source": [
    "## Put your solution here"
   ]
  },
  {
   "cell_type": "code",
   "execution_count": null,
   "metadata": {
    "collapsed": true
   },
   "outputs": [],
   "source": []
  },
  {
   "cell_type": "markdown",
   "metadata": {},
   "source": [
    "## Signal scaling\n",
    "\n",
    "Overflow can occur in filtering operations, mainly in multiply operations.  One way to avoid this is to perform signal scaling.  To be able to perform this, we should ideally determine the maximum magnitude of each intermediate signal $x_i[n]$, for all possible inputs $u[n]$ of the filter, as indicated on the following figure :\n",
    "\n",
    "<img src=\"signal_scaling.png\" alt=\"Drawing\" style=\"width: 500px;\"/>\n",
    "\n",
    "In this figure, $F_i(z)$ is the transfer function between the input (after scaling) of the filter and the input of a given multiplier, while $F_i^{'}(z) = \\lambda F_i(z)$ is the similar transfer function (before scaling), where $\\lambda$ is a scaling factor.\n",
    "\n",
    "Consider that $u[n]$ is bounded ($|u[n]|<u_m$),\n",
    "then, the $x_i[n] = \\sum_k f_i'[k]u[n-k]$, and \n",
    "\n",
    "$$ |x_i[n]| \\leq u_m \\sum_k \\left|f_i'[k]\\right| = u_m \\lambda \\sum_k \\left|f_i[k]\\right|$$\n",
    "\n",
    "Hence, if we want $x_i[n]$ to be bounded by $u_m$, we need to have :\n",
    "\n",
    "$$\\sum_k \\left|f_i'[k]\\right|<1$$\n",
    "and\n",
    "$$\\lambda \\leq \\frac{1}{\\sum_k \\left|f_i'[k]\\right|}$$\n",
    "\n",
    "This is often very difficult to compute, and a more classical criterion is :\n",
    "\n",
    "$$\\lambda \\leq \\frac{1}{\\left|\\left|F_i(e^{\\,\\mathrm{j}\\,\\omega})\\right|\\right|_2}$$\n",
    "\n",
    "where $\\left|\\left|F_i(e^{\\,\\mathrm{j}\\,\\omega})\\right|\\right|_2^2  = \n",
    "\\frac{1}{2 \\pi} \\int_{-\\pi}^{\\pi} \\left| F_i(e^{\\,\\mathrm{j}\\,\\omega})\\right|^2 d \\omega $.\n",
    "\n",
    "In practical implementations, $\\lambda$ is a power of two, such that simple shifting operations can be used.\n",
    "\n",
    "## Exercise \n",
    "\n",
    "Given the coupled form of a Second Order Section of an IIR filter, and given it's coefficients, compute the scaling factor.  Perform simulation to check if overflow occurs.\n"
   ]
  }
 ],
 "metadata": {
  "kernelspec": {
   "display_name": "Python 3",
   "language": "python",
   "name": "python3"
  },
  "language_info": {
   "codemirror_mode": {
    "name": "ipython",
    "version": 3
   },
   "file_extension": ".py",
   "mimetype": "text/x-python",
   "name": "python",
   "nbconvert_exporter": "python",
   "pygments_lexer": "ipython3",
   "version": "3.6.3"
  }
 },
 "nbformat": 4,
 "nbformat_minor": 2
}
